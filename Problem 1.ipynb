{
 "cells": [
  {
   "cell_type": "markdown",
   "metadata": {},
   "source": [
    "# 1. Write a function called rectangle that takes two integers m and n as arguments and prints out an m × n box consisting of asterisks.\n"
   ]
  },
  {
   "cell_type": "code",
   "execution_count": 1,
   "metadata": {},
   "outputs": [
    {
     "name": "stdout",
     "output_type": "stream",
     "text": [
      "**********\n",
      "*        *\n",
      "*        *\n",
      "*        *\n",
      "**********\n"
     ]
    }
   ],
   "source": [
    "\n",
    "def print_rectangle(n, m) : \n",
    "\t\n",
    "\tfor i in range(1, n+1) : \n",
    "\t\tfor j in range(1, m+1) : \n",
    "\t\t\tif (i == 1 or i == n or\n",
    "\t\t\t\tj == 1 or j == m) : \n",
    "\t\t\t\tprint(\"*\", end=\"\")\t\t\t \n",
    "\t\t\telse : \n",
    "\t\t\t\tprint(\" \", end=\"\")\t\t\t \n",
    "\t\t\n",
    "\t\tprint() \n",
    "\n",
    "\n",
    "\n",
    "rows = 5\n",
    "columns = 10\n",
    "print_rectangle(rows, columns) \n",
    "\n"
   ]
  },
  {
   "cell_type": "code",
   "execution_count": null,
   "metadata": {},
   "outputs": [],
   "source": []
  }
 ],
 "metadata": {
  "kernelspec": {
   "display_name": "Python 3",
   "language": "python",
   "name": "python3"
  },
  "language_info": {
   "codemirror_mode": {
    "name": "ipython",
    "version": 3
   },
   "file_extension": ".py",
   "mimetype": "text/x-python",
   "name": "python",
   "nbconvert_exporter": "python",
   "pygments_lexer": "ipython3",
   "version": "3.7.0"
  }
 },
 "nbformat": 4,
 "nbformat_minor": 2
}
